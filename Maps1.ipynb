{
  "nbformat": 4,
  "nbformat_minor": 0,
  "metadata": {
    "colab": {
      "provenance": [],
      "authorship_tag": "ABX9TyNLj7zrCnQPS3UAoozdwvfW"
    },
    "kernelspec": {
      "name": "python3",
      "display_name": "Python 3"
    },
    "language_info": {
      "name": "python"
    }
  },
  "cells": [
    {
      "cell_type": "code",
      "execution_count": null,
      "metadata": {
        "id": "-Vk2kcPRDVj5"
      },
      "outputs": [],
      "source": [
        "!pip install gmaps\n",
        "!pip install ipywidgets\n",
        "!pip install widgetsnbextension\n",
        "!pip install googlemaps"
      ]
    },
    {
      "cell_type": "code",
      "source": [
        "import gmaps\n",
        "import googlemaps\n",
        "from googlemaps.maps import StaticMapMarker\n",
        "from IPython.display import Image\n",
        "import random"
      ],
      "metadata": {
        "id": "Pv3BopkmERDS"
      },
      "execution_count": 47,
      "outputs": []
    },
    {
      "cell_type": "code",
      "source": [
        "API_KEY = ''\n",
        "mapper = googlemaps.Client(key=API_KEY)"
      ],
      "metadata": {
        "id": "u63JWKDsNJun"
      },
      "execution_count": 28,
      "outputs": []
    },
    {
      "cell_type": "code",
      "source": [
        "# Params for static map\n",
        "# maptype: roadmap, satellite, terrain, hybrid\n",
        "\n",
        "def makeImage(path, map):\n",
        "  f = open(path, 'wb')\n",
        "  for chunk in map:\n",
        "    if chunk:\n",
        "      f.write(chunk)\n",
        "  f.close()\n",
        "  return Image(path)"
      ],
      "metadata": {
        "id": "r2iF98VKMMaL"
      },
      "execution_count": 29,
      "outputs": []
    },
    {
      "cell_type": "code",
      "source": [
        "# From exact coords\n",
        "map = mapper.static_map(center=(37.7749, -122.4194), zoom=12, size=(600, 400), maptype=\"hybrid\")\n",
        "\n",
        "makeImage('map.png', map)"
      ],
      "metadata": {
        "id": "aXXLJDlzGnvG"
      },
      "execution_count": null,
      "outputs": []
    },
    {
      "cell_type": "code",
      "source": [
        "# From random coords\n",
        "lat = random.uniform(-90.0, 90.0)\n",
        "lng = random.uniform(-180.0, 180.0)\n",
        "\n",
        "print(lat, lng)\n",
        "\n",
        "map = mapper.static_map(center=(lat, lng), zoom=5, size=(600, 400), maptype=\"roadmap\")\n",
        "\n",
        "makeImage('map.png', map)"
      ],
      "metadata": {
        "id": "tH6cHNhrSxl6"
      },
      "execution_count": null,
      "outputs": []
    },
    {
      "cell_type": "code",
      "source": [
        "# From address\n",
        "geocode_result = mapper.geocode('1600 Amphitheatre Parkway, Mountain View, CA')\n",
        "\n",
        "lat = geocode_result[0]['geometry']['location']['lat']\n",
        "lng = geocode_result[0]['geometry']['location']['lng']\n",
        "coords = (lat, lng)\n",
        "\n",
        "\n",
        "map = mapper.static_map(center=coords, zoom=15, size=(600, 400))\n",
        "\n",
        "makeImage('map.png', map)"
      ],
      "metadata": {
        "id": "P73dY7SfI3me"
      },
      "execution_count": null,
      "outputs": []
    },
    {
      "cell_type": "code",
      "source": [
        "places_result = mapper.places_nearby(location=(37.7749, -122.4194), radius=500, type='restaurant')['results']\n",
        "\n",
        "markerList = []\n",
        "for loc in places_result:\n",
        "  coords = (loc['geometry']['location']['lat'], loc['geometry']['location']['lng'])\n",
        "  m1 = StaticMapMarker(locations=[(coords)], color=\"blue\", label=\"R\")\n",
        "  markerList.append(m1)\n",
        "\n",
        "map = mapper.static_map(center=(37.7749, -122.4194), zoom=14, size=(600, 400), markers=markerList)\n",
        "\n",
        "makeImage('map.png', map)\n"
      ],
      "metadata": {
        "id": "FRXL4WxbJVpM"
      },
      "execution_count": null,
      "outputs": []
    }
  ]
}